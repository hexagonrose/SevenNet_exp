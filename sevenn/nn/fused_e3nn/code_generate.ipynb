{
 "cells": [
  {
   "cell_type": "code",
   "execution_count": 33,
   "metadata": {},
   "outputs": [
    {
     "data": {
      "text/plain": [
       "11792"
      ]
     },
     "execution_count": 33,
     "metadata": {},
     "output_type": "execute_result"
    }
   ],
   "source": [
    "((11 *5+36) * 32 + 36) * 4"
   ]
  },
  {
   "cell_type": "code",
   "execution_count": 28,
   "metadata": {},
   "outputs": [
    {
     "data": {
      "text/plain": [
       "14848"
      ]
     },
     "execution_count": 28,
     "metadata": {},
     "output_type": "execute_result"
    }
   ],
   "source": [
    "((11 *4+36*2) * 32) * 4"
   ]
  },
  {
   "cell_type": "code",
   "execution_count": 23,
   "metadata": {},
   "outputs": [
    {
     "data": {
      "text/plain": [
       "18.618181818181817"
      ]
     },
     "execution_count": 23,
     "metadata": {},
     "output_type": "execute_result"
    }
   ],
   "source": [
    "16384 * 4 / (110*32)"
   ]
  },
  {
   "cell_type": "code",
   "execution_count": 31,
   "metadata": {},
   "outputs": [
    {
     "data": {
      "text/plain": [
       "320"
      ]
     },
     "execution_count": 31,
     "metadata": {},
     "output_type": "execute_result"
    }
   ],
   "source": [
    "32 * 10"
   ]
  },
  {
   "cell_type": "code",
   "execution_count": 19,
   "metadata": {},
   "outputs": [
    {
     "data": {
      "text/plain": [
       "2400"
      ]
     },
     "execution_count": 19,
     "metadata": {},
     "output_type": "execute_result"
    }
   ],
   "source": [
    "32 * 75"
   ]
  },
  {
   "cell_type": "code",
   "execution_count": null,
   "metadata": {},
   "outputs": [
    {
     "name": "stdout",
     "output_type": "stream",
     "text": [
      "struct ir_struct1{\n",
      "\tfloat val_0;\n",
      "};\n",
      "struct ir_struct3{\n",
      "\tfloat val_0;\n",
      "\tfloat val_1;\n",
      "\tfloat val_2;\n",
      "};\n",
      "struct ir_struct5{\n",
      "\tfloat val_0;\n",
      "\tfloat val_1;\n",
      "\tfloat val_2;\n",
      "\tfloat val_3;\n",
      "\tfloat val_4;\n",
      "};\n",
      "struct ir_struct7{\n",
      "\tfloat val_0;\n",
      "\tfloat val_1;\n",
      "\tfloat val_2;\n",
      "\tfloat val_3;\n",
      "\tfloat val_4;\n",
      "\tfloat val_5;\n",
      "\tfloat val_6;\n",
      "};\n",
      "struct ir_struct9{\n",
      "\tfloat val_0;\n",
      "\tfloat val_1;\n",
      "\tfloat val_2;\n",
      "\tfloat val_3;\n",
      "\tfloat val_4;\n",
      "\tfloat val_5;\n",
      "\tfloat val_6;\n",
      "\tfloat val_7;\n",
      "\tfloat val_8;\n",
      "};\n",
      "struct ir_struct11{\n",
      "\tfloat val_0;\n",
      "\tfloat val_1;\n",
      "\tfloat val_2;\n",
      "\tfloat val_3;\n",
      "\tfloat val_4;\n",
      "\tfloat val_5;\n",
      "\tfloat val_6;\n",
      "\tfloat val_7;\n",
      "\tfloat val_8;\n",
      "\tfloat val_9;\n",
      "\tfloat val_10;\n",
      "};\n"
     ]
    }
   ],
   "source": [
    "# ir_struct.h\n",
    "l_max = 5\n",
    "for ir_dim in range(1, (l_max+1)*2+1, 2):\n",
    "    print(f\"struct ir_struct{ir_dim}\", end=\"\")\n",
    "    print(\"{\")\n",
    "    for i in range(ir_dim):\n",
    "        print(f\"\\tfloat val_{i};\")\n",
    "    print(\"};\")\n"
   ]
  }
 ],
 "metadata": {
  "kernelspec": {
   "display_name": "cueq",
   "language": "python",
   "name": "python3"
  },
  "language_info": {
   "codemirror_mode": {
    "name": "ipython",
    "version": 3
   },
   "file_extension": ".py",
   "mimetype": "text/x-python",
   "name": "python",
   "nbconvert_exporter": "python",
   "pygments_lexer": "ipython3",
   "version": "3.11.10"
  }
 },
 "nbformat": 4,
 "nbformat_minor": 2
}
